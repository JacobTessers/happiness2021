{
 "cells": [
  {
   "cell_type": "markdown",
   "source": "This project shows the world happiness in 149 countries for the year 2021.",
   "metadata": {
    "cell_id": "40e37ac2d96c4c8dac598d703d2772ed",
    "tags": [],
    "deepnote_cell_type": "markdown",
    "deepnote_cell_height": 52.390625
   }
  },
  {
   "cell_type": "code",
   "metadata": {
    "tags": [],
    "cell_id": "3b069b94-3ee8-4e6e-bd9c-6c22a0e72054",
    "deepnote_to_be_reexecuted": false,
    "source_hash": "9b82ee11",
    "execution_start": 1650059061664,
    "execution_millis": 390948,
    "deepnote_cell_type": "code",
    "deepnote_cell_height": 81
   },
   "source": "import pandas as pd",
   "execution_count": 1,
   "outputs": []
  },
  {
   "cell_type": "code",
   "source": "import plotly.express as px",
   "metadata": {
    "cell_id": "7ff95098ea124fd4a0a6b367144b3c75",
    "tags": [],
    "deepnote_to_be_reexecuted": false,
    "source_hash": "bceeddb3",
    "execution_start": 1650059061665,
    "execution_millis": 269,
    "deepnote_cell_type": "code",
    "deepnote_cell_height": 81
   },
   "outputs": [],
   "execution_count": 2
  },
  {
   "cell_type": "code",
   "source": "happiness = pd.read_csv('world-happiness-report-2021.csv')",
   "metadata": {
    "cell_id": "85035ba3747c4a7a8a9f55f8167d8190",
    "tags": [],
    "deepnote_to_be_reexecuted": false,
    "source_hash": "15e83f28",
    "execution_start": 1650059061942,
    "execution_millis": 41,
    "deepnote_cell_type": "code",
    "deepnote_cell_height": 81
   },
   "outputs": [],
   "execution_count": 3
  },
  {
   "cell_type": "code",
   "source": "happiness",
   "metadata": {
    "cell_id": "a25b08e35c83450dbd93d5c7dce0c8c4",
    "tags": [],
    "deepnote_to_be_reexecuted": false,
    "source_hash": "fdd829fb",
    "execution_start": 1650059061990,
    "execution_millis": 772,
    "deepnote_table_state": {
     "pageSize": 10,
     "pageIndex": 14,
     "filters": [],
     "sortBy": []
    },
    "deepnote_table_loading": false,
    "deepnote_cell_type": "code",
    "deepnote_cell_height": 572.59375
   },
   "outputs": [
    {
     "output_type": "execute_result",
     "execution_count": 20,
     "data": {
      "application/vnd.deepnote.dataframe.v3+json": {
       "column_count": 20,
       "row_count": 149,
       "columns": [
        {
         "name": "Country name",
         "dtype": "object",
         "stats": {
          "unique_count": 149,
          "nan_count": 0,
          "categories": [
           {
            "name": "Finland",
            "count": 1
           },
           {
            "name": "Denmark",
            "count": 1
           },
           {
            "name": "147 others",
            "count": 147
           }
          ]
         }
        },
        {
         "name": "Regional indicator",
         "dtype": "object",
         "stats": {
          "unique_count": 10,
          "nan_count": 0,
          "categories": [
           {
            "name": "Sub-Saharan Africa",
            "count": 36
           },
           {
            "name": "Western Europe",
            "count": 21
           },
           {
            "name": "8 others",
            "count": 92
           }
          ]
         }
        },
        {
         "name": "Ladder score",
         "dtype": "float64",
         "stats": {
          "unique_count": 147,
          "nan_count": 0,
          "min": "2.523",
          "max": "7.842",
          "histogram": [
           {
            "bin_start": 2.523,
            "bin_end": 3.0549,
            "count": 1
           },
           {
            "bin_start": 3.0549,
            "bin_end": 3.5868,
            "count": 4
           },
           {
            "bin_start": 3.5868,
            "bin_end": 4.1187000000000005,
            "count": 9
           },
           {
            "bin_start": 4.1187000000000005,
            "bin_end": 4.6506,
            "count": 17
           },
           {
            "bin_start": 4.6506,
            "bin_end": 5.182499999999999,
            "count": 29
           },
           {
            "bin_start": 5.182499999999999,
            "bin_end": 5.7143999999999995,
            "count": 20
           },
           {
            "bin_start": 5.7143999999999995,
            "bin_end": 6.2463,
            "count": 31
           },
           {
            "bin_start": 6.2463,
            "bin_end": 6.7782,
            "count": 18
           },
           {
            "bin_start": 6.7782,
            "bin_end": 7.3101,
            "count": 12
           },
           {
            "bin_start": 7.3101,
            "bin_end": 7.842,
            "count": 8
           }
          ]
         }
        },
        {
         "name": "Standard error of ladder score",
         "dtype": "float64",
         "stats": {
          "unique_count": 65,
          "nan_count": 0,
          "min": "0.026",
          "max": "0.173",
          "histogram": [
           {
            "bin_start": 0.026,
            "bin_end": 0.0407,
            "count": 29
           },
           {
            "bin_start": 0.0407,
            "bin_end": 0.0554,
            "count": 49
           },
           {
            "bin_start": 0.0554,
            "bin_end": 0.0701,
            "count": 35
           },
           {
            "bin_start": 0.0701,
            "bin_end": 0.0848,
            "count": 23
           },
           {
            "bin_start": 0.0848,
            "bin_end": 0.09949999999999999,
            "count": 6
           },
           {
            "bin_start": 0.09949999999999999,
            "bin_end": 0.1142,
            "count": 4
           },
           {
            "bin_start": 0.1142,
            "bin_end": 0.1289,
            "count": 1
           },
           {
            "bin_start": 0.1289,
            "bin_end": 0.1436,
            "count": 0
           },
           {
            "bin_start": 0.1436,
            "bin_end": 0.1583,
            "count": 1
           },
           {
            "bin_start": 0.1583,
            "bin_end": 0.173,
            "count": 1
           }
          ]
         }
        },
        {
         "name": "upperwhisker",
         "dtype": "float64",
         "stats": {
          "unique_count": 146,
          "nan_count": 0,
          "min": "2.596",
          "max": "7.904",
          "histogram": [
           {
            "bin_start": 2.596,
            "bin_end": 3.1268000000000002,
            "count": 1
           },
           {
            "bin_start": 3.1268000000000002,
            "bin_end": 3.6576,
            "count": 3
           },
           {
            "bin_start": 3.6576,
            "bin_end": 4.1884,
            "count": 8
           },
           {
            "bin_start": 4.1884,
            "bin_end": 4.7192,
            "count": 16
           },
           {
            "bin_start": 4.7192,
            "bin_end": 5.25,
            "count": 28
           },
           {
            "bin_start": 5.25,
            "bin_end": 5.780799999999999,
            "count": 23
           },
           {
            "bin_start": 5.780799999999999,
            "bin_end": 6.311599999999999,
            "count": 29
           },
           {
            "bin_start": 6.311599999999999,
            "bin_end": 6.8424,
            "count": 21
           },
           {
            "bin_start": 6.8424,
            "bin_end": 7.3732,
            "count": 12
           },
           {
            "bin_start": 7.3732,
            "bin_end": 7.904,
            "count": 8
           }
          ]
         }
        },
        {
         "name": "lowerwhisker",
         "dtype": "float64",
         "stats": {
          "unique_count": 143,
          "nan_count": 0,
          "min": "2.449",
          "max": "7.78",
          "histogram": [
           {
            "bin_start": 2.449,
            "bin_end": 2.9821,
            "count": 1
           },
           {
            "bin_start": 2.9821,
            "bin_end": 3.5152,
            "count": 7
           },
           {
            "bin_start": 3.5152,
            "bin_end": 4.048299999999999,
            "count": 6
           },
           {
            "bin_start": 4.048299999999999,
            "bin_end": 4.5814,
            "count": 18
           },
           {
            "bin_start": 4.5814,
            "bin_end": 5.1145,
            "count": 29
           },
           {
            "bin_start": 5.1145,
            "bin_end": 5.6476,
            "count": 21
           },
           {
            "bin_start": 5.6476,
            "bin_end": 6.1807,
            "count": 31
           },
           {
            "bin_start": 6.1807,
            "bin_end": 6.7138,
            "count": 16
           },
           {
            "bin_start": 6.7138,
            "bin_end": 7.2469,
            "count": 12
           },
           {
            "bin_start": 7.2469,
            "bin_end": 7.78,
            "count": 8
           }
          ]
         }
        },
        {
         "name": "Logged GDP per capita",
         "dtype": "float64",
         "stats": {
          "unique_count": 148,
          "nan_count": 0,
          "min": "6.635",
          "max": "11.647",
          "histogram": [
           {
            "bin_start": 6.635,
            "bin_end": 7.1362,
            "count": 3
           },
           {
            "bin_start": 7.1362,
            "bin_end": 7.6373999999999995,
            "count": 8
           },
           {
            "bin_start": 7.6373999999999995,
            "bin_end": 8.1386,
            "count": 17
           },
           {
            "bin_start": 8.1386,
            "bin_end": 8.639800000000001,
            "count": 14
           },
           {
            "bin_start": 8.639800000000001,
            "bin_end": 9.141,
            "count": 12
           },
           {
            "bin_start": 9.141,
            "bin_end": 9.6422,
            "count": 29
           },
           {
            "bin_start": 9.6422,
            "bin_end": 10.1434,
            "count": 16
           },
           {
            "bin_start": 10.1434,
            "bin_end": 10.6446,
            "count": 24
           },
           {
            "bin_start": 10.6446,
            "bin_end": 11.145800000000001,
            "count": 23
           },
           {
            "bin_start": 11.145800000000001,
            "bin_end": 11.647,
            "count": 3
           }
          ]
         }
        },
        {
         "name": "Social support",
         "dtype": "float64",
         "stats": {
          "unique_count": 119,
          "nan_count": 0,
          "min": "0.463",
          "max": "0.983",
          "histogram": [
           {
            "bin_start": 0.463,
            "bin_end": 0.515,
            "count": 3
           },
           {
            "bin_start": 0.515,
            "bin_end": 0.5670000000000001,
            "count": 4
           },
           {
            "bin_start": 0.5670000000000001,
            "bin_end": 0.619,
            "count": 2
           },
           {
            "bin_start": 0.619,
            "bin_end": 0.671,
            "count": 8
           },
           {
            "bin_start": 0.671,
            "bin_end": 0.7230000000000001,
            "count": 14
           },
           {
            "bin_start": 0.7230000000000001,
            "bin_end": 0.7750000000000001,
            "count": 14
           },
           {
            "bin_start": 0.7750000000000001,
            "bin_end": 0.8270000000000001,
            "count": 26
           },
           {
            "bin_start": 0.8270000000000001,
            "bin_end": 0.879,
            "count": 23
           },
           {
            "bin_start": 0.879,
            "bin_end": 0.931,
            "count": 29
           },
           {
            "bin_start": 0.931,
            "bin_end": 0.983,
            "count": 26
           }
          ]
         }
        },
        {
         "name": "Healthy life expectancy",
         "dtype": "float64",
         "stats": {
          "unique_count": 135,
          "nan_count": 0,
          "min": "48.478",
          "max": "76.953",
          "histogram": [
           {
            "bin_start": 48.478,
            "bin_end": 51.325500000000005,
            "count": 5
           },
           {
            "bin_start": 51.325500000000005,
            "bin_end": 54.173,
            "count": 7
           },
           {
            "bin_start": 54.173,
            "bin_end": 57.0205,
            "count": 12
           },
           {
            "bin_start": 57.0205,
            "bin_end": 59.868,
            "count": 14
           },
           {
            "bin_start": 59.868,
            "bin_end": 62.715500000000006,
            "count": 13
           },
           {
            "bin_start": 62.715500000000006,
            "bin_end": 65.563,
            "count": 13
           },
           {
            "bin_start": 65.563,
            "bin_end": 68.4105,
            "count": 36
           },
           {
            "bin_start": 68.4105,
            "bin_end": 71.25800000000001,
            "count": 18
           },
           {
            "bin_start": 71.25800000000001,
            "bin_end": 74.1055,
            "count": 26
           },
           {
            "bin_start": 74.1055,
            "bin_end": 76.953,
            "count": 5
           }
          ]
         }
        },
        {
         "name": "Freedom to make life choices",
         "dtype": "float64",
         "stats": {
          "unique_count": 126,
          "nan_count": 0,
          "min": "0.382",
          "max": "0.97",
          "histogram": [
           {
            "bin_start": 0.382,
            "bin_end": 0.4408,
            "count": 1
           },
           {
            "bin_start": 0.4408,
            "bin_end": 0.4996,
            "count": 1
           },
           {
            "bin_start": 0.4996,
            "bin_end": 0.5584,
            "count": 3
           },
           {
            "bin_start": 0.5584,
            "bin_end": 0.6172,
            "count": 8
           },
           {
            "bin_start": 0.6172,
            "bin_end": 0.6759999999999999,
            "count": 8
           },
           {
            "bin_start": 0.6759999999999999,
            "bin_end": 0.7348,
            "count": 22
           },
           {
            "bin_start": 0.7348,
            "bin_end": 0.7936,
            "count": 28
           },
           {
            "bin_start": 0.7936,
            "bin_end": 0.8524,
            "count": 22
           },
           {
            "bin_start": 0.8524,
            "bin_end": 0.9112,
            "count": 35
           },
           {
            "bin_start": 0.9112,
            "bin_end": 0.97,
            "count": 21
           }
          ]
         }
        },
        {
         "name": "Generosity",
         "dtype": "float64",
         "stats": {
          "unique_count": 130,
          "nan_count": 0,
          "min": "-0.288",
          "max": "0.542",
          "histogram": [
           {
            "bin_start": -0.288,
            "bin_end": -0.20499999999999996,
            "count": 9
           },
           {
            "bin_start": -0.20499999999999996,
            "bin_end": -0.12199999999999997,
            "count": 31
           },
           {
            "bin_start": -0.12199999999999997,
            "bin_end": -0.03899999999999998,
            "count": 33
           },
           {
            "bin_start": -0.03899999999999998,
            "bin_end": 0.04400000000000004,
            "count": 31
           },
           {
            "bin_start": 0.04400000000000004,
            "bin_end": 0.12700000000000006,
            "count": 27
           },
           {
            "bin_start": 0.12700000000000006,
            "bin_end": 0.21000000000000002,
            "count": 7
           },
           {
            "bin_start": 0.21000000000000002,
            "bin_end": 0.2930000000000001,
            "count": 6
           },
           {
            "bin_start": 0.2930000000000001,
            "bin_end": 0.37600000000000006,
            "count": 1
           },
           {
            "bin_start": 0.37600000000000006,
            "bin_end": 0.459,
            "count": 2
           },
           {
            "bin_start": 0.459,
            "bin_end": 0.542,
            "count": 2
           }
          ]
         }
        },
        {
         "name": "Perceptions of corruption",
         "dtype": "float64",
         "stats": {
          "unique_count": 130,
          "nan_count": 0,
          "min": "0.082",
          "max": "0.939",
          "histogram": [
           {
            "bin_start": 0.082,
            "bin_end": 0.16770000000000002,
            "count": 2
           },
           {
            "bin_start": 0.16770000000000002,
            "bin_end": 0.2534,
            "count": 4
           },
           {
            "bin_start": 0.2534,
            "bin_end": 0.3391,
            "count": 3
           },
           {
            "bin_start": 0.3391,
            "bin_end": 0.4248,
            "count": 4
           },
           {
            "bin_start": 0.4248,
            "bin_end": 0.5105,
            "count": 5
           },
           {
            "bin_start": 0.5105,
            "bin_end": 0.5962,
            "count": 7
           },
           {
            "bin_start": 0.5962,
            "bin_end": 0.6819,
            "count": 14
           },
           {
            "bin_start": 0.6819,
            "bin_end": 0.7676,
            "count": 31
           },
           {
            "bin_start": 0.7676,
            "bin_end": 0.8533,
            "count": 46
           },
           {
            "bin_start": 0.8533,
            "bin_end": 0.939,
            "count": 33
           }
          ]
         }
        },
        {
         "name": "Ladder score in Dystopia",
         "dtype": "float64",
         "stats": {
          "unique_count": 1,
          "nan_count": 0,
          "min": "2.43",
          "max": "2.43",
          "histogram": [
           {
            "bin_start": 1.9300000000000002,
            "bin_end": 2.0300000000000002,
            "count": 0
           },
           {
            "bin_start": 2.0300000000000002,
            "bin_end": 2.1300000000000003,
            "count": 0
           },
           {
            "bin_start": 2.1300000000000003,
            "bin_end": 2.2300000000000004,
            "count": 0
           },
           {
            "bin_start": 2.2300000000000004,
            "bin_end": 2.33,
            "count": 0
           },
           {
            "bin_start": 2.33,
            "bin_end": 2.43,
            "count": 0
           },
           {
            "bin_start": 2.43,
            "bin_end": 2.5300000000000002,
            "count": 149
           },
           {
            "bin_start": 2.5300000000000002,
            "bin_end": 2.6300000000000003,
            "count": 0
           },
           {
            "bin_start": 2.6300000000000003,
            "bin_end": 2.7300000000000004,
            "count": 0
           },
           {
            "bin_start": 2.7300000000000004,
            "bin_end": 2.83,
            "count": 0
           },
           {
            "bin_start": 2.83,
            "bin_end": 2.93,
            "count": 0
           }
          ]
         }
        },
        {
         "name": "Explained by: Log GDP per capita",
         "dtype": "float64",
         "stats": {
          "unique_count": 138,
          "nan_count": 0,
          "min": "0.0",
          "max": "1.751",
          "histogram": [
           {
            "bin_start": 0,
            "bin_end": 0.17509999999999998,
            "count": 3
           },
           {
            "bin_start": 0.17509999999999998,
            "bin_end": 0.35019999999999996,
            "count": 8
           },
           {
            "bin_start": 0.35019999999999996,
            "bin_end": 0.5252999999999999,
            "count": 17
           },
           {
            "bin_start": 0.5252999999999999,
            "bin_end": 0.7003999999999999,
            "count": 14
           },
           {
            "bin_start": 0.7003999999999999,
            "bin_end": 0.8755,
            "count": 12
           },
           {
            "bin_start": 0.8755,
            "bin_end": 1.0505999999999998,
            "count": 29
           },
           {
            "bin_start": 1.0505999999999998,
            "bin_end": 1.2256999999999998,
            "count": 16
           },
           {
            "bin_start": 1.2256999999999998,
            "bin_end": 1.4007999999999998,
            "count": 24
           },
           {
            "bin_start": 1.4007999999999998,
            "bin_end": 1.5758999999999999,
            "count": 23
           },
           {
            "bin_start": 1.5758999999999999,
            "bin_end": 1.751,
            "count": 3
           }
          ]
         }
        },
        {
         "name": "Explained by: Social support",
         "dtype": "float64",
         "stats": {
          "unique_count": 135,
          "nan_count": 0,
          "min": "0.0",
          "max": "1.172",
          "histogram": [
           {
            "bin_start": 0,
            "bin_end": 0.1172,
            "count": 3
           },
           {
            "bin_start": 0.1172,
            "bin_end": 0.2344,
            "count": 4
           },
           {
            "bin_start": 0.2344,
            "bin_end": 0.3516,
            "count": 2
           },
           {
            "bin_start": 0.3516,
            "bin_end": 0.4688,
            "count": 8
           },
           {
            "bin_start": 0.4688,
            "bin_end": 0.586,
            "count": 14
           },
           {
            "bin_start": 0.586,
            "bin_end": 0.7032,
            "count": 14
           },
           {
            "bin_start": 0.7032,
            "bin_end": 0.8204,
            "count": 25
           },
           {
            "bin_start": 0.8204,
            "bin_end": 0.9376,
            "count": 24
           },
           {
            "bin_start": 0.9376,
            "bin_end": 1.0548,
            "count": 29
           },
           {
            "bin_start": 1.0548,
            "bin_end": 1.172,
            "count": 26
           }
          ]
         }
        },
        {
         "name": "Explained by: Healthy life expectancy",
         "dtype": "float64",
         "stats": {
          "unique_count": 119,
          "nan_count": 0,
          "min": "0.0",
          "max": "0.897",
          "histogram": [
           {
            "bin_start": 0,
            "bin_end": 0.0897,
            "count": 5
           },
           {
            "bin_start": 0.0897,
            "bin_end": 0.1794,
            "count": 7
           },
           {
            "bin_start": 0.1794,
            "bin_end": 0.2691,
            "count": 12
           },
           {
            "bin_start": 0.2691,
            "bin_end": 0.3588,
            "count": 14
           },
           {
            "bin_start": 0.3588,
            "bin_end": 0.4485,
            "count": 13
           },
           {
            "bin_start": 0.4485,
            "bin_end": 0.5382,
            "count": 13
           },
           {
            "bin_start": 0.5382,
            "bin_end": 0.6279,
            "count": 36
           },
           {
            "bin_start": 0.6279,
            "bin_end": 0.7176,
            "count": 18
           },
           {
            "bin_start": 0.7176,
            "bin_end": 0.8073,
            "count": 26
           },
           {
            "bin_start": 0.8073,
            "bin_end": 0.897,
            "count": 5
           }
          ]
         }
        },
        {
         "name": "Explained by: Freedom to make life choices",
         "dtype": "float64",
         "stats": {
          "unique_count": 130,
          "nan_count": 0,
          "min": "0.0",
          "max": "0.716",
          "histogram": [
           {
            "bin_start": 0,
            "bin_end": 0.0716,
            "count": 1
           },
           {
            "bin_start": 0.0716,
            "bin_end": 0.1432,
            "count": 1
           },
           {
            "bin_start": 0.1432,
            "bin_end": 0.2148,
            "count": 3
           },
           {
            "bin_start": 0.2148,
            "bin_end": 0.2864,
            "count": 8
           },
           {
            "bin_start": 0.2864,
            "bin_end": 0.358,
            "count": 8
           },
           {
            "bin_start": 0.358,
            "bin_end": 0.4296,
            "count": 22
           },
           {
            "bin_start": 0.4296,
            "bin_end": 0.5012,
            "count": 28
           },
           {
            "bin_start": 0.5012,
            "bin_end": 0.5728,
            "count": 22
           },
           {
            "bin_start": 0.5728,
            "bin_end": 0.6444,
            "count": 35
           },
           {
            "bin_start": 0.6444,
            "bin_end": 0.716,
            "count": 21
           }
          ]
         }
        },
        {
         "name": "Explained by: Generosity",
         "dtype": "float64",
         "stats": {
          "unique_count": 119,
          "nan_count": 0,
          "min": "0.0",
          "max": "0.541",
          "histogram": [
           {
            "bin_start": 0,
            "bin_end": 0.0541,
            "count": 9
           },
           {
            "bin_start": 0.0541,
            "bin_end": 0.1082,
            "count": 31
           },
           {
            "bin_start": 0.1082,
            "bin_end": 0.1623,
            "count": 33
           },
           {
            "bin_start": 0.1623,
            "bin_end": 0.2164,
            "count": 31
           },
           {
            "bin_start": 0.2164,
            "bin_end": 0.2705,
            "count": 27
           },
           {
            "bin_start": 0.2705,
            "bin_end": 0.3246,
            "count": 7
           },
           {
            "bin_start": 0.3246,
            "bin_end": 0.37870000000000004,
            "count": 6
           },
           {
            "bin_start": 0.37870000000000004,
            "bin_end": 0.4328,
            "count": 1
           },
           {
            "bin_start": 0.4328,
            "bin_end": 0.4869,
            "count": 2
           },
           {
            "bin_start": 0.4869,
            "bin_end": 0.541,
            "count": 2
           }
          ]
         }
        },
        {
         "name": "Explained by: Perceptions of corruption",
         "dtype": "float64",
         "stats": {
          "unique_count": 117,
          "nan_count": 0,
          "min": "0.0",
          "max": "0.547",
          "histogram": [
           {
            "bin_start": 0,
            "bin_end": 0.054700000000000006,
            "count": 33
           },
           {
            "bin_start": 0.054700000000000006,
            "bin_end": 0.10940000000000001,
            "count": 46
           },
           {
            "bin_start": 0.10940000000000001,
            "bin_end": 0.16410000000000002,
            "count": 31
           },
           {
            "bin_start": 0.16410000000000002,
            "bin_end": 0.21880000000000002,
            "count": 14
           },
           {
            "bin_start": 0.21880000000000002,
            "bin_end": 0.2735,
            "count": 7
           },
           {
            "bin_start": 0.2735,
            "bin_end": 0.32820000000000005,
            "count": 5
           },
           {
            "bin_start": 0.32820000000000005,
            "bin_end": 0.3829,
            "count": 4
           },
           {
            "bin_start": 0.3829,
            "bin_end": 0.43760000000000004,
            "count": 3
           },
           {
            "bin_start": 0.43760000000000004,
            "bin_end": 0.49230000000000007,
            "count": 4
           },
           {
            "bin_start": 0.49230000000000007,
            "bin_end": 0.547,
            "count": 2
           }
          ]
         }
        },
        {
         "name": "Dystopia + residual",
         "dtype": "float64",
         "stats": {
          "unique_count": 142,
          "nan_count": 0,
          "min": "0.648",
          "max": "3.482",
          "histogram": [
           {
            "bin_start": 0.648,
            "bin_end": 0.9314,
            "count": 1
           },
           {
            "bin_start": 0.9314,
            "bin_end": 1.2147999999999999,
            "count": 3
           },
           {
            "bin_start": 1.2147999999999999,
            "bin_end": 1.4982,
            "count": 6
           },
           {
            "bin_start": 1.4982,
            "bin_end": 1.7816,
            "count": 6
           },
           {
            "bin_start": 1.7816,
            "bin_end": 2.065,
            "count": 14
           },
           {
            "bin_start": 2.065,
            "bin_end": 2.3484,
            "count": 30
           },
           {
            "bin_start": 2.3484,
            "bin_end": 2.6318,
            "count": 33
           },
           {
            "bin_start": 2.6318,
            "bin_end": 2.9152,
            "count": 33
           },
           {
            "bin_start": 2.9152,
            "bin_end": 3.1986,
            "count": 14
           },
           {
            "bin_start": 3.1986,
            "bin_end": 3.482,
            "count": 9
           }
          ]
         }
        },
        {
         "name": "_deepnote_index_column",
         "dtype": "int64"
        }
       ],
       "rows": [
        {
         "Country name": "Yemen",
         "Regional indicator": "Middle East and North Africa",
         "Ladder score": 3.658,
         "Standard error of ladder score": 0.07,
         "upperwhisker": 3.794,
         "lowerwhisker": 3.521,
         "Logged GDP per capita": 7.578,
         "Social support": 0.832,
         "Healthy life expectancy": 57.122,
         "Freedom to make life choices": 0.602,
         "Generosity": -0.147,
         "Perceptions of corruption": 0.8,
         "Ladder score in Dystopia": 2.43,
         "Explained by: Log GDP per capita": 0.329,
         "Explained by: Social support": 0.831,
         "Explained by: Healthy life expectancy": 0.272,
         "Explained by: Freedom to make life choices": 0.268,
         "Explained by: Generosity": 0.092,
         "Explained by: Perceptions of corruption": 0.089,
         "Dystopia + residual": 1.776,
         "_deepnote_index_column": 140
        },
        {
         "Country name": "Tanzania",
         "Regional indicator": "Sub-Saharan Africa",
         "Ladder score": 3.623,
         "Standard error of ladder score": 0.071,
         "upperwhisker": 3.762,
         "lowerwhisker": 3.485,
         "Logged GDP per capita": 7.876,
         "Social support": 0.702,
         "Healthy life expectancy": 57.999,
         "Freedom to make life choices": 0.833,
         "Generosity": 0.183,
         "Perceptions of corruption": 0.577,
         "Ladder score in Dystopia": 2.43,
         "Explained by: Log GDP per capita": 0.433,
         "Explained by: Social support": 0.54,
         "Explained by: Healthy life expectancy": 0.3,
         "Explained by: Freedom to make life choices": 0.549,
         "Explained by: Generosity": 0.307,
         "Explained by: Perceptions of corruption": 0.231,
         "Dystopia + residual": 1.263,
         "_deepnote_index_column": 141
        },
        {
         "Country name": "Haiti",
         "Regional indicator": "Latin America and Caribbean",
         "Ladder score": 3.615,
         "Standard error of ladder score": 0.173,
         "upperwhisker": 3.953,
         "lowerwhisker": 3.276,
         "Logged GDP per capita": 7.477,
         "Social support": 0.54,
         "Healthy life expectancy": 55.7,
         "Freedom to make life choices": 0.593,
         "Generosity": 0.422,
         "Perceptions of corruption": 0.721,
         "Ladder score in Dystopia": 2.43,
         "Explained by: Log GDP per capita": 0.294,
         "Explained by: Social support": 0.173,
         "Explained by: Healthy life expectancy": 0.227,
         "Explained by: Freedom to make life choices": 0.257,
         "Explained by: Generosity": 0.463,
         "Explained by: Perceptions of corruption": 0.139,
         "Dystopia + residual": 2.06,
         "_deepnote_index_column": 142
        },
        {
         "Country name": "Malawi",
         "Regional indicator": "Sub-Saharan Africa",
         "Ladder score": 3.6,
         "Standard error of ladder score": 0.092,
         "upperwhisker": 3.781,
         "lowerwhisker": 3.419,
         "Logged GDP per capita": 6.958,
         "Social support": 0.537,
         "Healthy life expectancy": 57.948,
         "Freedom to make life choices": 0.78,
         "Generosity": 0.038,
         "Perceptions of corruption": 0.729,
         "Ladder score in Dystopia": 2.43,
         "Explained by: Log GDP per capita": 0.113,
         "Explained by: Social support": 0.168,
         "Explained by: Healthy life expectancy": 0.298,
         "Explained by: Freedom to make life choices": 0.484,
         "Explained by: Generosity": 0.213,
         "Explained by: Perceptions of corruption": 0.134,
         "Dystopia + residual": 2.19,
         "_deepnote_index_column": 143
        },
        {
         "Country name": "Lesotho",
         "Regional indicator": "Sub-Saharan Africa",
         "Ladder score": 3.512,
         "Standard error of ladder score": 0.12,
         "upperwhisker": 3.748,
         "lowerwhisker": 3.276,
         "Logged GDP per capita": 7.926,
         "Social support": 0.787,
         "Healthy life expectancy": 48.7,
         "Freedom to make life choices": 0.715,
         "Generosity": -0.131,
         "Perceptions of corruption": 0.915,
         "Ladder score in Dystopia": 2.43,
         "Explained by: Log GDP per capita": 0.451,
         "Explained by: Social support": 0.731,
         "Explained by: Healthy life expectancy": 0.007,
         "Explained by: Freedom to make life choices": 0.405,
         "Explained by: Generosity": 0.103,
         "Explained by: Perceptions of corruption": 0.015,
         "Dystopia + residual": 1.8,
         "_deepnote_index_column": 144
        },
        {
         "Country name": "Botswana",
         "Regional indicator": "Sub-Saharan Africa",
         "Ladder score": 3.467,
         "Standard error of ladder score": 0.074,
         "upperwhisker": 3.611,
         "lowerwhisker": 3.322,
         "Logged GDP per capita": 9.782,
         "Social support": 0.784,
         "Healthy life expectancy": 59.269,
         "Freedom to make life choices": 0.824,
         "Generosity": -0.246,
         "Perceptions of corruption": 0.801,
         "Ladder score in Dystopia": 2.43,
         "Explained by: Log GDP per capita": 1.099,
         "Explained by: Social support": 0.724,
         "Explained by: Healthy life expectancy": 0.34,
         "Explained by: Freedom to make life choices": 0.539,
         "Explained by: Generosity": 0.027,
         "Explained by: Perceptions of corruption": 0.088,
         "Dystopia + residual": 0.648,
         "_deepnote_index_column": 145
        },
        {
         "Country name": "Rwanda",
         "Regional indicator": "Sub-Saharan Africa",
         "Ladder score": 3.415,
         "Standard error of ladder score": 0.068,
         "upperwhisker": 3.548,
         "lowerwhisker": 3.282,
         "Logged GDP per capita": 7.676,
         "Social support": 0.552,
         "Healthy life expectancy": 61.4,
         "Freedom to make life choices": 0.897,
         "Generosity": 0.061,
         "Perceptions of corruption": 0.167,
         "Ladder score in Dystopia": 2.43,
         "Explained by: Log GDP per capita": 0.364,
         "Explained by: Social support": 0.202,
         "Explained by: Healthy life expectancy": 0.407,
         "Explained by: Freedom to make life choices": 0.627,
         "Explained by: Generosity": 0.227,
         "Explained by: Perceptions of corruption": 0.493,
         "Dystopia + residual": 1.095,
         "_deepnote_index_column": 146
        },
        {
         "Country name": "Zimbabwe",
         "Regional indicator": "Sub-Saharan Africa",
         "Ladder score": 3.145,
         "Standard error of ladder score": 0.058,
         "upperwhisker": 3.259,
         "lowerwhisker": 3.03,
         "Logged GDP per capita": 7.943,
         "Social support": 0.75,
         "Healthy life expectancy": 56.201,
         "Freedom to make life choices": 0.677,
         "Generosity": -0.047,
         "Perceptions of corruption": 0.821,
         "Ladder score in Dystopia": 2.43,
         "Explained by: Log GDP per capita": 0.457,
         "Explained by: Social support": 0.649,
         "Explained by: Healthy life expectancy": 0.243,
         "Explained by: Freedom to make life choices": 0.359,
         "Explained by: Generosity": 0.157,
         "Explained by: Perceptions of corruption": 0.075,
         "Dystopia + residual": 1.205,
         "_deepnote_index_column": 147
        },
        {
         "Country name": "Afghanistan",
         "Regional indicator": "South Asia",
         "Ladder score": 2.523,
         "Standard error of ladder score": 0.038,
         "upperwhisker": 2.596,
         "lowerwhisker": 2.449,
         "Logged GDP per capita": 7.695,
         "Social support": 0.463,
         "Healthy life expectancy": 52.493,
         "Freedom to make life choices": 0.382,
         "Generosity": -0.102,
         "Perceptions of corruption": 0.924,
         "Ladder score in Dystopia": 2.43,
         "Explained by: Log GDP per capita": 0.37,
         "Explained by: Social support": 0,
         "Explained by: Healthy life expectancy": 0.126,
         "Explained by: Freedom to make life choices": 0,
         "Explained by: Generosity": 0.122,
         "Explained by: Perceptions of corruption": 0.01,
         "Dystopia + residual": 1.895,
         "_deepnote_index_column": 148
        }
       ]
      },
      "text/plain": "    Country name  Regional indicator  Ladder score  \\\n0        Finland      Western Europe         7.842   \n1        Denmark      Western Europe         7.620   \n2    Switzerland      Western Europe         7.571   \n3        Iceland      Western Europe         7.554   \n4    Netherlands      Western Europe         7.464   \n..           ...                 ...           ...   \n144      Lesotho  Sub-Saharan Africa         3.512   \n145     Botswana  Sub-Saharan Africa         3.467   \n146       Rwanda  Sub-Saharan Africa         3.415   \n147     Zimbabwe  Sub-Saharan Africa         3.145   \n148  Afghanistan          South Asia         2.523   \n\n     Standard error of ladder score  upperwhisker  lowerwhisker  \\\n0                             0.032         7.904         7.780   \n1                             0.035         7.687         7.552   \n2                             0.036         7.643         7.500   \n3                             0.059         7.670         7.438   \n4                             0.027         7.518         7.410   \n..                              ...           ...           ...   \n144                           0.120         3.748         3.276   \n145                           0.074         3.611         3.322   \n146                           0.068         3.548         3.282   \n147                           0.058         3.259         3.030   \n148                           0.038         2.596         2.449   \n\n     Logged GDP per capita  Social support  Healthy life expectancy  \\\n0                   10.775           0.954                   72.000   \n1                   10.933           0.954                   72.700   \n2                   11.117           0.942                   74.400   \n3                   10.878           0.983                   73.000   \n4                   10.932           0.942                   72.400   \n..                     ...             ...                      ...   \n144                  7.926           0.787                   48.700   \n145                  9.782           0.784                   59.269   \n146                  7.676           0.552                   61.400   \n147                  7.943           0.750                   56.201   \n148                  7.695           0.463                   52.493   \n\n     Freedom to make life choices  Generosity  Perceptions of corruption  \\\n0                           0.949      -0.098                      0.186   \n1                           0.946       0.030                      0.179   \n2                           0.919       0.025                      0.292   \n3                           0.955       0.160                      0.673   \n4                           0.913       0.175                      0.338   \n..                            ...         ...                        ...   \n144                         0.715      -0.131                      0.915   \n145                         0.824      -0.246                      0.801   \n146                         0.897       0.061                      0.167   \n147                         0.677      -0.047                      0.821   \n148                         0.382      -0.102                      0.924   \n\n     Ladder score in Dystopia  Explained by: Log GDP per capita  \\\n0                        2.43                             1.446   \n1                        2.43                             1.502   \n2                        2.43                             1.566   \n3                        2.43                             1.482   \n4                        2.43                             1.501   \n..                        ...                               ...   \n144                      2.43                             0.451   \n145                      2.43                             1.099   \n146                      2.43                             0.364   \n147                      2.43                             0.457   \n148                      2.43                             0.370   \n\n     Explained by: Social support  Explained by: Healthy life expectancy  \\\n0                           1.106                                  0.741   \n1                           1.108                                  0.763   \n2                           1.079                                  0.816   \n3                           1.172                                  0.772   \n4                           1.079                                  0.753   \n..                            ...                                    ...   \n144                         0.731                                  0.007   \n145                         0.724                                  0.340   \n146                         0.202                                  0.407   \n147                         0.649                                  0.243   \n148                         0.000                                  0.126   \n\n     Explained by: Freedom to make life choices  Explained by: Generosity  \\\n0                                         0.691                     0.124   \n1                                         0.686                     0.208   \n2                                         0.653                     0.204   \n3                                         0.698                     0.293   \n4                                         0.647                     0.302   \n..                                          ...                       ...   \n144                                       0.405                     0.103   \n145                                       0.539                     0.027   \n146                                       0.627                     0.227   \n147                                       0.359                     0.157   \n148                                       0.000                     0.122   \n\n     Explained by: Perceptions of corruption  Dystopia + residual  \n0                                      0.481                3.253  \n1                                      0.485                2.868  \n2                                      0.413                2.839  \n3                                      0.170                2.967  \n4                                      0.384                2.798  \n..                                       ...                  ...  \n144                                    0.015                1.800  \n145                                    0.088                0.648  \n146                                    0.493                1.095  \n147                                    0.075                1.205  \n148                                    0.010                1.895  \n\n[149 rows x 20 columns]",
      "text/html": "<div>\n<style scoped>\n    .dataframe tbody tr th:only-of-type {\n        vertical-align: middle;\n    }\n\n    .dataframe tbody tr th {\n        vertical-align: top;\n    }\n\n    .dataframe thead th {\n        text-align: right;\n    }\n</style>\n<table border=\"1\" class=\"dataframe\">\n  <thead>\n    <tr style=\"text-align: right;\">\n      <th></th>\n      <th>Country name</th>\n      <th>Regional indicator</th>\n      <th>Ladder score</th>\n      <th>Standard error of ladder score</th>\n      <th>upperwhisker</th>\n      <th>lowerwhisker</th>\n      <th>Logged GDP per capita</th>\n      <th>Social support</th>\n      <th>Healthy life expectancy</th>\n      <th>Freedom to make life choices</th>\n      <th>Generosity</th>\n      <th>Perceptions of corruption</th>\n      <th>Ladder score in Dystopia</th>\n      <th>Explained by: Log GDP per capita</th>\n      <th>Explained by: Social support</th>\n      <th>Explained by: Healthy life expectancy</th>\n      <th>Explained by: Freedom to make life choices</th>\n      <th>Explained by: Generosity</th>\n      <th>Explained by: Perceptions of corruption</th>\n      <th>Dystopia + residual</th>\n    </tr>\n  </thead>\n  <tbody>\n    <tr>\n      <th>0</th>\n      <td>Finland</td>\n      <td>Western Europe</td>\n      <td>7.842</td>\n      <td>0.032</td>\n      <td>7.904</td>\n      <td>7.780</td>\n      <td>10.775</td>\n      <td>0.954</td>\n      <td>72.000</td>\n      <td>0.949</td>\n      <td>-0.098</td>\n      <td>0.186</td>\n      <td>2.43</td>\n      <td>1.446</td>\n      <td>1.106</td>\n      <td>0.741</td>\n      <td>0.691</td>\n      <td>0.124</td>\n      <td>0.481</td>\n      <td>3.253</td>\n    </tr>\n    <tr>\n      <th>1</th>\n      <td>Denmark</td>\n      <td>Western Europe</td>\n      <td>7.620</td>\n      <td>0.035</td>\n      <td>7.687</td>\n      <td>7.552</td>\n      <td>10.933</td>\n      <td>0.954</td>\n      <td>72.700</td>\n      <td>0.946</td>\n      <td>0.030</td>\n      <td>0.179</td>\n      <td>2.43</td>\n      <td>1.502</td>\n      <td>1.108</td>\n      <td>0.763</td>\n      <td>0.686</td>\n      <td>0.208</td>\n      <td>0.485</td>\n      <td>2.868</td>\n    </tr>\n    <tr>\n      <th>2</th>\n      <td>Switzerland</td>\n      <td>Western Europe</td>\n      <td>7.571</td>\n      <td>0.036</td>\n      <td>7.643</td>\n      <td>7.500</td>\n      <td>11.117</td>\n      <td>0.942</td>\n      <td>74.400</td>\n      <td>0.919</td>\n      <td>0.025</td>\n      <td>0.292</td>\n      <td>2.43</td>\n      <td>1.566</td>\n      <td>1.079</td>\n      <td>0.816</td>\n      <td>0.653</td>\n      <td>0.204</td>\n      <td>0.413</td>\n      <td>2.839</td>\n    </tr>\n    <tr>\n      <th>3</th>\n      <td>Iceland</td>\n      <td>Western Europe</td>\n      <td>7.554</td>\n      <td>0.059</td>\n      <td>7.670</td>\n      <td>7.438</td>\n      <td>10.878</td>\n      <td>0.983</td>\n      <td>73.000</td>\n      <td>0.955</td>\n      <td>0.160</td>\n      <td>0.673</td>\n      <td>2.43</td>\n      <td>1.482</td>\n      <td>1.172</td>\n      <td>0.772</td>\n      <td>0.698</td>\n      <td>0.293</td>\n      <td>0.170</td>\n      <td>2.967</td>\n    </tr>\n    <tr>\n      <th>4</th>\n      <td>Netherlands</td>\n      <td>Western Europe</td>\n      <td>7.464</td>\n      <td>0.027</td>\n      <td>7.518</td>\n      <td>7.410</td>\n      <td>10.932</td>\n      <td>0.942</td>\n      <td>72.400</td>\n      <td>0.913</td>\n      <td>0.175</td>\n      <td>0.338</td>\n      <td>2.43</td>\n      <td>1.501</td>\n      <td>1.079</td>\n      <td>0.753</td>\n      <td>0.647</td>\n      <td>0.302</td>\n      <td>0.384</td>\n      <td>2.798</td>\n    </tr>\n    <tr>\n      <th>...</th>\n      <td>...</td>\n      <td>...</td>\n      <td>...</td>\n      <td>...</td>\n      <td>...</td>\n      <td>...</td>\n      <td>...</td>\n      <td>...</td>\n      <td>...</td>\n      <td>...</td>\n      <td>...</td>\n      <td>...</td>\n      <td>...</td>\n      <td>...</td>\n      <td>...</td>\n      <td>...</td>\n      <td>...</td>\n      <td>...</td>\n      <td>...</td>\n      <td>...</td>\n    </tr>\n    <tr>\n      <th>144</th>\n      <td>Lesotho</td>\n      <td>Sub-Saharan Africa</td>\n      <td>3.512</td>\n      <td>0.120</td>\n      <td>3.748</td>\n      <td>3.276</td>\n      <td>7.926</td>\n      <td>0.787</td>\n      <td>48.700</td>\n      <td>0.715</td>\n      <td>-0.131</td>\n      <td>0.915</td>\n      <td>2.43</td>\n      <td>0.451</td>\n      <td>0.731</td>\n      <td>0.007</td>\n      <td>0.405</td>\n      <td>0.103</td>\n      <td>0.015</td>\n      <td>1.800</td>\n    </tr>\n    <tr>\n      <th>145</th>\n      <td>Botswana</td>\n      <td>Sub-Saharan Africa</td>\n      <td>3.467</td>\n      <td>0.074</td>\n      <td>3.611</td>\n      <td>3.322</td>\n      <td>9.782</td>\n      <td>0.784</td>\n      <td>59.269</td>\n      <td>0.824</td>\n      <td>-0.246</td>\n      <td>0.801</td>\n      <td>2.43</td>\n      <td>1.099</td>\n      <td>0.724</td>\n      <td>0.340</td>\n      <td>0.539</td>\n      <td>0.027</td>\n      <td>0.088</td>\n      <td>0.648</td>\n    </tr>\n    <tr>\n      <th>146</th>\n      <td>Rwanda</td>\n      <td>Sub-Saharan Africa</td>\n      <td>3.415</td>\n      <td>0.068</td>\n      <td>3.548</td>\n      <td>3.282</td>\n      <td>7.676</td>\n      <td>0.552</td>\n      <td>61.400</td>\n      <td>0.897</td>\n      <td>0.061</td>\n      <td>0.167</td>\n      <td>2.43</td>\n      <td>0.364</td>\n      <td>0.202</td>\n      <td>0.407</td>\n      <td>0.627</td>\n      <td>0.227</td>\n      <td>0.493</td>\n      <td>1.095</td>\n    </tr>\n    <tr>\n      <th>147</th>\n      <td>Zimbabwe</td>\n      <td>Sub-Saharan Africa</td>\n      <td>3.145</td>\n      <td>0.058</td>\n      <td>3.259</td>\n      <td>3.030</td>\n      <td>7.943</td>\n      <td>0.750</td>\n      <td>56.201</td>\n      <td>0.677</td>\n      <td>-0.047</td>\n      <td>0.821</td>\n      <td>2.43</td>\n      <td>0.457</td>\n      <td>0.649</td>\n      <td>0.243</td>\n      <td>0.359</td>\n      <td>0.157</td>\n      <td>0.075</td>\n      <td>1.205</td>\n    </tr>\n    <tr>\n      <th>148</th>\n      <td>Afghanistan</td>\n      <td>South Asia</td>\n      <td>2.523</td>\n      <td>0.038</td>\n      <td>2.596</td>\n      <td>2.449</td>\n      <td>7.695</td>\n      <td>0.463</td>\n      <td>52.493</td>\n      <td>0.382</td>\n      <td>-0.102</td>\n      <td>0.924</td>\n      <td>2.43</td>\n      <td>0.370</td>\n      <td>0.000</td>\n      <td>0.126</td>\n      <td>0.000</td>\n      <td>0.122</td>\n      <td>0.010</td>\n      <td>1.895</td>\n    </tr>\n  </tbody>\n</table>\n<p>149 rows × 20 columns</p>\n</div>"
     },
     "metadata": {}
    }
   ],
   "execution_count": 4
  },
  {
   "cell_type": "code",
   "source": "import seaborn as sns\nax1 = sns.regplot(x=\"Ladder score\",\n                y=\"Logged GDP per capita\",\n                data=happiness,\n                scatter_kws={\"color\": \"orange\"},\n                line_kws={\"color\": \"yellow\"})\nax1.set_xlabel(\"Happiness Score\")\nax1.set_title(\"Happiness and GDP per capita\");",
   "metadata": {
    "cell_id": "63bc15f0169840fa889c6a7c45e9c614",
    "tags": [],
    "deepnote_to_be_reexecuted": false,
    "source_hash": "3e16d415",
    "execution_start": 1650059716518,
    "execution_millis": 742,
    "deepnote_cell_type": "code",
    "deepnote_cell_height": 503,
    "deepnote_output_heights": [
     280,
     250
    ]
   },
   "outputs": [
    {
     "data": {
      "text/plain": "<Figure size 432x288 with 1 Axes>",
      "image/png": "[encoded data removed]"
     },
     "metadata": {
      "needs_background": "light",
      "image/png": {
       "width": 382,
       "height": 278
      }
     },
     "output_type": "display_data"
    }
   ],
   "execution_count": 18
  },
  {
   "cell_type": "code",
   "source": "import seaborn as sns\nax2 = sns.regplot(x=\"Ladder score\",\n                y=\"Freedom to make life choices\",\n                data=happiness,\n                scatter_kws={\"color\": \"purple\"},\n                line_kws={\"color\": \"orange\"})\nax2.set_xlabel(\"Happiness Score\")\nax2.set_title(\"Freedom to make life choices & Happiness\")\n",
   "metadata": {
    "cell_id": "d4d5dd1f8db54db5ad3bc3cff5870938",
    "tags": [],
    "deepnote_to_be_reexecuted": false,
    "source_hash": "6c0836c1",
    "execution_start": 1650059709943,
    "execution_millis": 691,
    "deepnote_cell_type": "code",
    "deepnote_cell_height": 573.1875,
    "deepnote_output_heights": [
     21.1875,
     280
    ]
   },
   "outputs": [
    {
     "output_type": "execute_result",
     "execution_count": 17,
     "data": {
      "text/plain": "Text(0.5, 1.0, 'Freedom to make life choices & Happiness')"
     },
     "metadata": {}
    },
    {
     "data": {
      "text/plain": "<Figure size 432x288 with 1 Axes>",
      "image/png": "[encoded data removed]"
     },
     "metadata": {
      "needs_background": "light",
      "image/png": {
       "width": 386,
       "height": 278
      }
     },
     "output_type": "display_data"
    }
   ],
   "execution_count": 17
  },
  {
   "cell_type": "code",
   "source": "import seaborn as sns\nax3 = sns.regplot(x=\"Ladder score\",\n                y=\"Explained by: Perceptions of corruption\",\n                data=happiness,\n                scatter_kws={\"color\": \"red\"},\n                line_kws={\"color\": \"black\"})\nax3.set_xlabel(\"Happiness Score\")\nax3.set_title(\"Perceptions of corruption& Happiness\")",
   "metadata": {
    "cell_id": "338a85428c1a4faab9fc30a7a48aaecf",
    "tags": [],
    "deepnote_to_be_reexecuted": false,
    "source_hash": "b49176e",
    "execution_start": 1650059822712,
    "execution_millis": 638,
    "deepnote_cell_type": "code",
    "deepnote_cell_height": 555.1875,
    "deepnote_output_heights": [
     21.1875,
     280
    ]
   },
   "outputs": [
    {
     "output_type": "execute_result",
     "execution_count": 19,
     "data": {
      "text/plain": "Text(0.5, 1.0, 'Perceptions of corruption& Happiness')"
     },
     "metadata": {}
    },
    {
     "data": {
      "text/plain": "<Figure size 432x288 with 1 Axes>",
      "image/png": "[encoded data removed]"
     },
     "metadata": {
      "needs_background": "light",
      "image/png": {
       "width": 386,
       "height": 278
      }
     },
     "output_type": "display_data"
    }
   ],
   "execution_count": 19
  },
  {
   "cell_type": "code",
   "source": "fig.write_html(\"index.html\")",
   "metadata": {
    "cell_id": "f163e3589b1542248bf60486f5d160d3",
    "tags": [],
    "owner_user_id": "78ada1d8-81d9-49c3-9dce-bb8720f28287",
    "deepnote_to_be_reexecuted": false,
    "source_hash": "895515aa",
    "execution_start": 1650060597423,
    "execution_millis": 33,
    "deepnote_cell_type": "code",
    "deepnote_cell_height": 66
   },
   "outputs": [],
   "execution_count": 20
  },
  {
   "cell_type": "markdown",
   "source": "<a style='text-decoration:none;line-height:16px;display:flex;color:#5B5B62;padding:10px;justify-content:end;' href='https://deepnote.com?utm_source=created-in-deepnote-cell&projectId=3dea9eff-ba84-4223-9b67-98730104810f' target=\"_blank\">\n<img alt='Created in deepnote.com' style='display:inline;max-height:16px;margin:0px;margin-right:7.5px;' src='data:image/svg+xml;base64,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' > </img>\nCreated in <span style='font-weight:600;margin-left:4px;'>Deepnote</span></a>",
   "metadata": {
    "tags": [],
    "created_in_deepnote_cell": true,
    "deepnote_cell_type": "markdown"
   }
  }
 ],
 "nbformat": 4,
 "nbformat_minor": 2,
 "metadata": {
  "orig_nbformat": 2,
  "deepnote": {},
  "deepnote_notebook_id": "24ecbb3a-e959-40f4-88f3-81fd30e51b05",
  "deepnote_execution_queue": []
 }
}